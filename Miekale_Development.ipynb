{
 "cells": [
  {
   "cell_type": "code",
   "execution_count": 80,
   "metadata": {},
   "outputs": [],
   "source": [
    "import json\n",
    "\n",
    "#import distance data\n",
    "with open(r'json/distance.json') as f:\n",
    "    city_distances = json.load(f)\n",
    "\n",
    "#import input data\n",
    "with open(r'json/input.json') as f:\n",
    "    city_data = json.load(f)\n"
   ]
  },
  {
   "cell_type": "code",
   "execution_count": 81,
   "metadata": {},
   "outputs": [],
   "source": [
    "#function declarations \n",
    "\n",
    "#get distance function\n",
    "def get_distance(start:str, end:str, data):\n",
    "    dis = data[start][end] \n",
    "    if (type(data[start][end]) == str):\n",
    "        return 0\n",
    "    else:\n",
    "        return dis\n",
    "    \n",
    "\n",
    "#get closest depot\n",
    "def get_depot(city:str, data:dict):\n",
    "    depots = ['Goderich', 'Toronto', 'Picton']\n",
    "    lowest_dist = 1E9\n",
    "    closest_depot = \"\"\n",
    "\n",
    "    for depot in depots:\n",
    "        dist = get_distance(city, depot, data)\n",
    "        \n",
    "        if (dist != 0 and dist < lowest_dist):\n",
    "            lowest_dist = dist\n",
    "            closest_depot = depot\n",
    "            print(closest_depot)\n",
    "    return closest_depot\n",
    "\n"
   ]
  },
  {
   "cell_type": "code",
   "execution_count": 35,
   "metadata": {},
   "outputs": [
    {
     "name": "stdout",
     "output_type": "stream",
     "text": [
      "{'Tilbury': 19, 'Mississauga': 6, 'Cornwall': 5, 'London': 4, 'Windsor': 11, 'Niagara_Falls': 8, 'Barrie': 11, 'Kingston': 18, 'Huntsville': 15, 'North_Bay': 3}\n",
      "11\n",
      "5\n"
     ]
    }
   ],
   "source": [
    "print(input)\n",
    "print(input[\"Barrie\"])\n",
    "input[\"Barrie\"] = 5\n",
    "print(input[\"Barrie\"])"
   ]
  },
  {
   "attachments": {},
   "cell_type": "markdown",
   "metadata": {},
   "source": []
  },
  {
   "cell_type": "code",
   "execution_count": 82,
   "metadata": {},
   "outputs": [],
   "source": [
    "class Truck:\n",
    "    def __init__(self, starting_depot) -> None:\n",
    "        \n",
    "        # Truck constants\n",
    "        self.hourly_wage = 20\n",
    "        self.overtime_wage = 30\n",
    "        self.speed = 100\n",
    "        self.cost_per_km = 0.68 + self.hourly_wage * self.speed / 100\n",
    "        self.cost_per_km_overtime = 0.68 + self.overtime_wage * self.speed / 100\n",
    "        \n",
    "        # Truck variables\n",
    "        self.home_depot = starting_depot\n",
    "        self.current_city = None\n",
    "        self.rest = False\n",
    "        self.distance_driven_day = 0\n",
    "        self.distance_driven_week = 0\n",
    "        self.day_cost = 0\n",
    "        self.total_cost = 0\n",
    "        self.packages = 0\n",
    "\n",
    "        # To output\n",
    "        self.output_dictionary = {\n",
    "            \"Total_cost\": self.total_cost,\n",
    "            \"Monday\": {\n",
    "                \n",
    "            }\n",
    "        }\n",
    "\n",
    "    def reset_day(self):\n",
    "        self.distance_driven_day = 0\n",
    "        self.day_cost = 0\n",
    "\n",
    "    def generate_day_info(self, day_distance:float, day_cost:float, day_deliveries:list):\n",
    "        day_info = {\n",
    "                \"Total_distance\": day_distance,\n",
    "                \"Total_cost\": day_cost,\n",
    "        }\n",
    "        i = 1\n",
    "        for delivery in day_deliveries:\n",
    "            day_info[f'Delivery_{i}'] = delivery\n",
    "            i += 1\n",
    "        \n",
    "    def generate_delivery_info(self, start_t, end_t, start_city, end_city, delivery_type, start_quant, end_quant):\n",
    "        delivery_info = {\n",
    "            \"Start_time\": start_t,\n",
    "            \"End_time\": end_t,\n",
    "            \"Start_destination\":start_city,\n",
    "            \"End_destination\":end_city,\n",
    "            \"Distance\": distance_to(start_city, end_city),\n",
    "            \"Delivery_type\":delivery_type,\n",
    "            \"Start_quantity\":start_quant,\n",
    "            \"End_quantity\": end_quant,\n",
    "        }\n",
    "        return delivery_info\n",
    "\n",
    "    def generate_truck_output(self):\n",
    "        output_dict = {}\n",
    "        weekdays = [\"Monday\", \"Tuesday\", \"Wednesday\", \"Thursday\", \"Friday\"]\n",
    "        for weekday in weekdays:\n",
    "            #output[weekday]\n",
    "            pass\n",
    "\n",
    "\n",
    "    def move_truck(self, new_city:str, location_dict, deliver:bool=True):\n",
    "        # Calculate cost\n",
    "        dist = distance_to(self.current_city, new_city)\n",
    "        trip_cost = dist * self.cost_per_km\n",
    "\n",
    "        # Update truck \n",
    "        self.distance_driven_day += dist\n",
    "        self.distance_driven_week += dist\n",
    "        self.current_city = new_city\n",
    "        \n",
    "        # Deliver packages \n",
    "        if deliver:\n",
    "            num_packages_req = location_dict[new_city]\n",
    "            if self.packages < num_packages_req:\n",
    "                location_dict[new_city] -= self.packages\n",
    "                self.packages = 0\n",
    "        \n",
    "        # Load up on packages \n",
    "        else:\n",
    "            self.packages = 0"
   ]
  },
  {
   "cell_type": "code",
   "execution_count": 85,
   "metadata": {},
   "outputs": [
    {
     "name": "stdout",
     "output_type": "stream",
     "text": [
      "Goderich\n"
     ]
    },
    {
     "ename": "NameError",
     "evalue": "name 'move_truck' is not defined",
     "output_type": "error",
     "traceback": [
      "\u001b[0;31m---------------------------------------------------------------------------\u001b[0m",
      "\u001b[0;31mNameError\u001b[0m                                 Traceback (most recent call last)",
      "Cell \u001b[0;32mIn[85], line 9\u001b[0m\n\u001b[1;32m      7\u001b[0m \u001b[39mwhile\u001b[39;00m (city_data[city] \u001b[39m>\u001b[39m\u001b[39m=\u001b[39m \u001b[39m0\u001b[39m):\n\u001b[1;32m      8\u001b[0m     new_truck \u001b[39m=\u001b[39m Truck(closest)\n\u001b[0;32m----> 9\u001b[0m     move_truck(city, closest)\n\u001b[1;32m     10\u001b[0m     new_truck\u001b[39m.\u001b[39mappend(new_truck)\n",
      "\u001b[0;31mNameError\u001b[0m: name 'move_truck' is not defined"
     ]
    }
   ],
   "source": [
    "#main algorithm\n",
    "\n",
    "Trucks = []\n",
    "\n",
    "for i, city in enumerate(city_data):\n",
    "    closest = get_depot(city, city_distances)\n",
    "    while (city_data[city] >= 0):\n",
    "        new_truck = Truck(closest)\n",
    "        new_truck.move_truck(city, closest)\n",
    "        Trucks.append(new_truck)\n",
    "\n",
    "    \n",
    "    \n"
   ]
  },
  {
   "cell_type": "code",
   "execution_count": null,
   "metadata": {},
   "outputs": [],
   "source": [
    "#outputing to file\n",
    "output_dictionary = json.dumps(Trucks, indent=4)\n",
    "\n",
    "with open(r\"json/output.json\", \"w\") as outfile:\n",
    "    outfile.write(output_dictionary)"
   ]
  }
 ],
 "metadata": {
  "kernelspec": {
   "display_name": "contour",
   "language": "python",
   "name": "python3"
  },
  "language_info": {
   "codemirror_mode": {
    "name": "ipython",
    "version": 3
   },
   "file_extension": ".py",
   "mimetype": "text/x-python",
   "name": "python",
   "nbconvert_exporter": "python",
   "pygments_lexer": "ipython3",
   "version": "3.11.4"
  },
  "orig_nbformat": 4
 },
 "nbformat": 4,
 "nbformat_minor": 2
}
