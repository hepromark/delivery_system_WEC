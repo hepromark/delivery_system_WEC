{
 "cells": [
  {
   "cell_type": "code",
   "execution_count": 13,
   "metadata": {},
   "outputs": [],
   "source": [
    "import json\n",
    "\n",
    "#import distance data\n",
    "with open(r'json/distance.json') as f:\n",
    "    distance = json.load(f)\n",
    "\n",
    "#import input data\n",
    "with open(r'json/input.json') as f:\n",
    "    input = json.load(f)\n"
   ]
  },
  {
   "cell_type": "code",
   "execution_count": 15,
   "metadata": {},
   "outputs": [],
   "source": [
    "#function declarations \n",
    "\n",
    "#get distance function\n",
    "def get_distance(start:str, end:str, data):\n",
    "    dis = data[start][end] \n",
    "    if (data[start][end] == \"n/a\"):\n",
    "        return 0\n",
    "    else:\n",
    "        return dis\n",
    "    \n",
    "\n",
    "#get closest depot\n",
    "def get_depot(city:str, data):\n",
    "    depots = ['Goderich', 'Toronto', 'Picton']\n",
    "    lowest_dist = 1E9\n",
    "    closest_depot = \"\"\n",
    "\n",
    "    for depot in depots:\n",
    "        dist = get_distance(city, depot, data)\n",
    "        \n",
    "        if (dist != 0 and dist < lowest_dist):\n",
    "            lowest_dist = dist\n",
    "            closest_depot = depot\n",
    "    return closest_depot"
   ]
  },
  {
   "cell_type": "code",
   "execution_count": 16,
   "metadata": {},
   "outputs": [],
   "source": [
    "class Truck:\n",
    "    def __init__(self, starting_depot) -> None:\n",
    "        \n",
    "        # Truck constants\n",
    "        self.hourly_wage = 20\n",
    "        self.overtime_wage = 30\n",
    "        self.speed = 100\n",
    "        self.cost_per_km = 0.68 + self.hourly_wage * self.speed / 100\n",
    "        self.cost_per_km_overtime = 0.68 + self.overtime_wage * self.speed / 100\n",
    "        \n",
    "        # Truck variables\n",
    "        self.home_depot = starting_depot\n",
    "        self.current_city = None\n",
    "        self.rest = False\n",
    "        self.hours_worked_day = 0\n",
    "        self.hours_worked_week = 0\n",
    "        self.total_cost = 0\n",
    "        self.packages = 0\n",
    "\n",
    "        # To output\n",
    "        self.output_dictionary = {\n",
    "            \"Total_cost\": self.total_cost,\n",
    "            \"Monday\": {\n",
    "                \"Total_distance\": None,\n",
    "                \"Total_cost\": None,\n",
    "            }\n",
    "        }\n",
    "\n",
    "    def kill_trucker(self) -> None:\n",
    "        pass \n",
    "\n",
    "\n",
    "\n",
    "class City:\n",
    "    def __init__(self, req_packages:int) -> None:\n",
    "        self.req_packages = req_packages\n",
    "        self.remaining_packages = 0\n",
    "        self.depot = False\n",
    "\n",
    "    def recieve_packages(self, packages) -> None:\n",
    "        self.remaining_packages -= packages"
   ]
  },
  {
   "cell_type": "code",
   "execution_count": 17,
   "metadata": {},
   "outputs": [],
   "source": [
    "Trucks = {\n",
    "\n",
    "}\n",
    "    \n"
   ]
  },
  {
   "cell_type": "code",
   "execution_count": 18,
   "metadata": {},
   "outputs": [],
   "source": [
    "output_dictionary = json.dumps(Trucks, indent=4)\n",
    "\n",
    "with open(r\"json/output.json\", \"w\") as outfile:\n",
    "    outfile.write(output_dictionary)"
   ]
  }
 ],
 "metadata": {
  "kernelspec": {
   "display_name": "contour",
   "language": "python",
   "name": "python3"
  },
  "language_info": {
   "codemirror_mode": {
    "name": "ipython",
    "version": 3
   },
   "file_extension": ".py",
   "mimetype": "text/x-python",
   "name": "python",
   "nbconvert_exporter": "python",
   "pygments_lexer": "ipython3",
   "version": "3.11.4"
  },
  "orig_nbformat": 4
 },
 "nbformat": 4,
 "nbformat_minor": 2
}
