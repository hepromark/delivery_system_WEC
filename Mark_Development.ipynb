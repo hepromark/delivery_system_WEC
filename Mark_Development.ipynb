{
 "cells": [
  {
   "cell_type": "code",
   "execution_count": null,
   "metadata": {},
   "outputs": [],
   "source": [
    "import numpy as np\n",
    "import json"
   ]
  },
  {
   "cell_type": "code",
   "execution_count": 2,
   "metadata": {},
   "outputs": [],
   "source": [
    "class Truck:\n",
    "    def __init__(self) -> None:\n",
    "        self.hours_worked_day = 0\n",
    "        self.hours_worked_week = 0\n",
    "        self.cost_per_km = 0.68 + 20 / 100\n",
    "        self.cost_per_km_overtime = 0.68 + 30 / 100\n",
    "        self.packages = 0\n",
    "        self.speed = 100\n",
    "\n",
    "    def kill_trucker(self) -> None:\n",
    "        pass \n",
    "\n",
    "class City:\n",
    "    def __init__(self, req_packages:int) -> None:\n",
    "        self.x = 0\n",
    "        self.y = 0\n",
    "        self.req_packages = req_packages\n",
    "        self.remaining_packages = 0\n",
    "\n",
    "    def recieve_packages(self, packages) -> None:\n",
    "        self.remaining_packages -= packages\n",
    "\n",
    "class Depot():\n",
    "    def __init__(self) -> None:\n",
    "        self.x = 0\n",
    "        self.y = 0\n",
    "\n",
    "    def make_truck(self):\n",
    "        new_truck = Truck()\n",
    "        return new_truck "
   ]
  },
  {
   "cell_type": "code",
   "execution_count": null,
   "metadata": {},
   "outputs": [],
   "source": []
  }
 ],
 "metadata": {
  "kernelspec": {
   "display_name": "articus_venv",
   "language": "python",
   "name": "python3"
  },
  "language_info": {
   "codemirror_mode": {
    "name": "ipython",
    "version": 3
   },
   "file_extension": ".py",
   "mimetype": "text/x-python",
   "name": "python",
   "nbconvert_exporter": "python",
   "pygments_lexer": "ipython3",
   "version": "3.9.16"
  },
  "orig_nbformat": 4
 },
 "nbformat": 4,
 "nbformat_minor": 2
}
