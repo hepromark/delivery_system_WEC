{
 "cells": [
  {
   "cell_type": "code",
   "execution_count": 8,
   "metadata": {},
   "outputs": [],
   "source": [
    "import numpy as np\n",
    "import json"
   ]
  },
  {
   "cell_type": "code",
   "execution_count": 18,
   "metadata": {},
   "outputs": [],
   "source": [
    "def distance_to(start:str, end:str, data):\n",
    "    dis = data[start][end] \n",
    "    if (data[start][end] == \"n/a\"):\n",
    "        return 0\n",
    "    else:\n",
    "        return dis"
   ]
  },
  {
   "cell_type": "code",
   "execution_count": 9,
   "metadata": {},
   "outputs": [],
   "source": [
    "class Truck:\n",
    "    def __init__(self, starting_depot) -> None:\n",
    "        \n",
    "        # Truck constants\n",
    "        self.hourly_wage = 20\n",
    "        self.overtime_wage = 30\n",
    "        self.speed = 100\n",
    "        self.cost_per_km = 0.68 + self.hourly_wage * self.speed / 100\n",
    "        self.cost_per_km_overtime = 0.68 + self.overtime_wage * self.speed / 100\n",
    "        \n",
    "        # Truck variables\n",
    "        self.home_depot = starting_depot\n",
    "        self.current_city = None\n",
    "        self.rest = False\n",
    "        self.distance_driven_day = 0\n",
    "        self.distance_driven_week = 0\n",
    "        self.total_cost = 0\n",
    "        self.packages = 0\n",
    "\n",
    "        # To output\n",
    "        self.output_dictionary = {\n",
    "            \"Total_cost\": self.total_cost,\n",
    "            \"Monday\": {\n",
    "                \n",
    "            }\n",
    "        }\n",
    "\n",
    "    def generate_day_info(self, day_distance:float, day_cost:float, day_deliveries:list):\n",
    "        day_info = {\n",
    "                \"Total_distance\": day_distance,\n",
    "                \"Total_cost\": day_cost,\n",
    "        }\n",
    "        i = 1\n",
    "        for delivery in day_deliveries:\n",
    "            day_info[f'Delivery_{i}'] = delivery\n",
    "            i += 1\n",
    "        \n",
    "    def generate_delivery_info(self, start_t, end_t, start_city, end_city, delivery_type, start_quant, end_quant):\n",
    "        delivery_info = {\n",
    "            \"Start_time\": start_t,\n",
    "            \"End_time\": end_t,\n",
    "            \"Start_destination\":start_city,\n",
    "            \"End_destination\":end_city,\n",
    "            \"Distance\": distance_to(start_city, end_city),\n",
    "            \"Delivery_type\":delivery_type,\n",
    "            \"Start_quantity\":start_quant,\n",
    "            \"End_quantity\": end_quant,\n",
    "        }\n",
    "        return delivery_info\n",
    "\n",
    "\n",
    "    def generate_output(self):\n",
    "        pass\n",
    "\n",
    "    def kill_trucker(self) -> None:\n",
    "        self.rest = True\n",
    "\n",
    "class City:\n",
    "    def __init__(self, req_packages:int) -> None:\n",
    "        self.req_packages = req_packages\n",
    "        self.remaining_packages = 0\n",
    "        self.depot = False\n",
    "\n",
    "    def recieve_packages(self, packages) -> None:\n",
    "        self.remaining_packages -= packages\n"
   ]
  },
  {
   "cell_type": "code",
   "execution_count": 10,
   "metadata": {},
   "outputs": [],
   "source": [
    "#import distance data\n",
    "with open(r'json/distance.json') as f:\n",
    "    distance = json.load(f)\n",
    "\n",
    "#import input data\n",
    "with open(r'json/input.json') as f:\n",
    "    input = json.load(f)"
   ]
  },
  {
   "cell_type": "code",
   "execution_count": 34,
   "metadata": {},
   "outputs": [
    {
     "name": "stdout",
     "output_type": "stream",
     "text": [
      "Tilbury belongs to Goderich\n",
      "Mississauga belongs to Toronto\n",
      "Cornwall belongs to Picton\n",
      "London belongs to Goderich\n",
      "Windsor belongs to Goderich\n",
      "Niagara_Falls belongs to Toronto\n",
      "Barrie belongs to Toronto\n",
      "Kingston belongs to Picton\n",
      "Huntsville belongs to Toronto\n",
      "North_Bay belongs to Toronto\n",
      "Goderich belongs to Toronto\n",
      "Toronto belongs to Picton\n",
      "Picton belongs to Toronto\n"
     ]
    }
   ],
   "source": [
    "depots = ['Goderich', 'Toronto', 'Picton']\n",
    "for city in distance.keys():\n",
    "    lowest_dist = 1E9\n",
    "    closest_depot = \"\"\n",
    "    for depot in depots:\n",
    "        dist = distance_to(city, depot, distance)\n",
    "        \n",
    "        if (dist != 0 and dist < lowest_dist):\n",
    "            lowest_dist = dist\n",
    "            closest_depot = depot\n",
    "\n",
    "    print(f'{city} belongs to {closest_depot}')"
   ]
  },
  {
   "cell_type": "code",
   "execution_count": null,
   "metadata": {},
   "outputs": [],
   "source": []
  }
 ],
 "metadata": {
  "kernelspec": {
   "display_name": "articus_venv",
   "language": "python",
   "name": "python3"
  },
  "language_info": {
   "codemirror_mode": {
    "name": "ipython",
    "version": 3
   },
   "file_extension": ".py",
   "mimetype": "text/x-python",
   "name": "python",
   "nbconvert_exporter": "python",
   "pygments_lexer": "ipython3",
   "version": "3.9.16"
  },
  "orig_nbformat": 4
 },
 "nbformat": 4,
 "nbformat_minor": 2
}
