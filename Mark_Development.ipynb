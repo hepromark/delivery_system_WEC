{
 "cells": [
  {
   "cell_type": "code",
   "execution_count": 8,
   "metadata": {},
   "outputs": [],
   "source": [
    "import numpy as np\n",
    "import json"
   ]
  },
  {
   "cell_type": "code",
   "execution_count": 18,
   "metadata": {},
   "outputs": [],
   "source": [
    "def distance_to(start:str, end:str, data):\n",
    "    dis = data[start][end] \n",
    "    if (data[start][end] == \"n/a\"):\n",
    "        return 0\n",
    "    else:\n",
    "        return dis"
   ]
  },
  {
   "cell_type": "code",
   "execution_count": 9,
   "metadata": {},
   "outputs": [],
   "source": [
    "class Truck:\n",
    "    def __init__(self) -> None:\n",
    "        self.hours_worked_day = 0\n",
    "        self.hours_worked_week = 0\n",
    "        self.cost_per_km = 0.68 + 20 / 100\n",
    "        self.cost_per_km_overtime = 0.68 + 30 / 100\n",
    "        self.packages = 0\n",
    "        self.speed = 100\n",
    "        self.total_cost = 0\n",
    "\n",
    "        # To output\n",
    "        \n",
    "        self.output_dictionary = {\n",
    "            \"Total_cost\": self.total_cost,\n",
    "            \"Monday\": {\n",
    "                \"Total_distance\": None,\n",
    "                \"Total_cost\": None,\n",
    "                \"Deliver_1\": {\n",
    "                    \"Start_time\": None,\n",
    "                    \"End_time\": None,\n",
    "                    \"Start_destination\": None,\n",
    "                    \"End_destination\" : None,\n",
    "                    \"Distance\": None,\n",
    "                    \"Delivery_type\": None,\n",
    "                    \"Start_quantity\": None,\n",
    "                    \"End_quantity\": None, \n",
    "                }\n",
    "            }\n",
    "        }\n",
    "\n",
    "    def kill_trucker(self) -> None:\n",
    "        pass \n",
    "\n",
    "class City:\n",
    "    def __init__(self, req_packages:int) -> None:\n",
    "        self.x = 0\n",
    "        self.y = 0\n",
    "        self.req_packages = req_packages\n",
    "        self.remaining_packages = 0\n",
    "\n",
    "    def recieve_packages(self, packages) -> None:\n",
    "        self.remaining_packages -= packages\n",
    "\n",
    "class Depot():\n",
    "    def __init__(self) -> None:\n",
    "        self.x = 0\n",
    "        self.y = 0\n",
    "\n",
    "    def make_truck(self):\n",
    "        new_truck = Truck()\n",
    "        return new_truck "
   ]
  },
  {
   "cell_type": "code",
   "execution_count": 10,
   "metadata": {},
   "outputs": [],
   "source": [
    "#import distance data\n",
    "with open(r'json/distance.json') as f:\n",
    "    distance = json.load(f)\n",
    "\n",
    "#import input data\n",
    "with open(r'json/input.json') as f:\n",
    "    input = json.load(f)"
   ]
  },
  {
   "cell_type": "code",
   "execution_count": 34,
   "metadata": {},
   "outputs": [
    {
     "name": "stdout",
     "output_type": "stream",
     "text": [
      "Tilbury belongs to Goderich\n",
      "Mississauga belongs to Toronto\n",
      "Cornwall belongs to Picton\n",
      "London belongs to Goderich\n",
      "Windsor belongs to Goderich\n",
      "Niagara_Falls belongs to Toronto\n",
      "Barrie belongs to Toronto\n",
      "Kingston belongs to Picton\n",
      "Huntsville belongs to Toronto\n",
      "North_Bay belongs to Toronto\n",
      "Goderich belongs to Toronto\n",
      "Toronto belongs to Picton\n",
      "Picton belongs to Toronto\n"
     ]
    }
   ],
   "source": [
    "depots = ['Goderich', 'Toronto', 'Picton']\n",
    "for city in distance.keys():\n",
    "    lowest_dist = 1E9\n",
    "    closest_depot = \"\"\n",
    "\n",
    "    for depot in depots:\n",
    "        dist = distance_to(city, depot, distance)\n",
    "        \n",
    "        if (dist != 0 and dist < lowest_dist):\n",
    "            lowest_dist = dist\n",
    "            closest_depot = depot\n",
    "\n",
    "    print(f'{city} belongs to {closest_depot}')"
   ]
  },
  {
   "cell_type": "code",
   "execution_count": null,
   "metadata": {},
   "outputs": [],
   "source": []
  }
 ],
 "metadata": {
  "kernelspec": {
   "display_name": "articus_venv",
   "language": "python",
   "name": "python3"
  },
  "language_info": {
   "codemirror_mode": {
    "name": "ipython",
    "version": 3
   },
   "file_extension": ".py",
   "mimetype": "text/x-python",
   "name": "python",
   "nbconvert_exporter": "python",
   "pygments_lexer": "ipython3",
   "version": "3.9.16"
  },
  "orig_nbformat": 4
 },
 "nbformat": 4,
 "nbformat_minor": 2
}
