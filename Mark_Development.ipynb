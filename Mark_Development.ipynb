{
 "cells": [
  {
   "cell_type": "code",
   "execution_count": 242,
   "metadata": {},
   "outputs": [],
   "source": [
    "import numpy as np\n",
    "import json"
   ]
  },
  {
   "cell_type": "code",
   "execution_count": 243,
   "metadata": {},
   "outputs": [],
   "source": [
    "#import distance data\n",
    "with open(r'json/distance.json') as f:\n",
    "    city_distances = json.load(f)\n",
    "\n",
    "#import input data\n",
    "with open(r'json/input.json') as f:\n",
    "    city_data = json.load(f)"
   ]
  },
  {
   "cell_type": "code",
   "execution_count": 244,
   "metadata": {},
   "outputs": [],
   "source": [
    "#get distance function\n",
    "def get_distance(start:str, end:str, data:dict):\n",
    "    dis = data[start][end] \n",
    "    if (type(data[start][end]) == str):\n",
    "        return 0\n",
    "    else:\n",
    "        return dis\n",
    "    \n",
    "\n",
    "#get closest depot\n",
    "def get_depot(city:str, data:dict):\n",
    "    depots = ['Goderich', 'Toronto', 'Picton']\n",
    "    lowest_dist = 1E9\n",
    "    closest_depot = \"\"\n",
    "\n",
    "    for depot in depots:\n",
    "        dist = get_distance(city, depot, data)\n",
    "        \n",
    "        if (dist != 0 and dist < lowest_dist):\n",
    "            lowest_dist = dist\n",
    "            closest_depot = depot\n",
    "    return closest_depot"
   ]
  },
  {
   "cell_type": "code",
   "execution_count": 245,
   "metadata": {},
   "outputs": [],
   "source": [
    "class Truck:\n",
    "    def __init__(self, starting_depot) -> None:\n",
    "        \n",
    "        # Truck constants\n",
    "        self.hourly_wage = 20\n",
    "        self.overtime_wage = 30\n",
    "        self.speed = 100\n",
    "        self.cost_per_km = 0.68 + self.hourly_wage / self.speed\n",
    "        self.cost_per_km_overtime = 0.68 + self.overtime_wage / self.speed\n",
    "        \n",
    "        # Truck variables\n",
    "        self.home_depot = starting_depot\n",
    "        self.current_city = self.home_depot\n",
    "        self.rest = False\n",
    "        self.distance_driven_week = 0\n",
    "        self.day_cost = 0\n",
    "        self.total_cost = 0\n",
    "        self.packages = 5\n",
    "\n",
    "        # Time variables\n",
    "        self.current_day = \"Monday\"\n",
    "\n",
    "        # Logging\n",
    "        self.distance_driven_days = {\n",
    "            \"Monday\": 0,\n",
    "            \"Tuesday\": 0,\n",
    "            \"Wednesday\": 0,\n",
    "            \"Thursday\": 0,\n",
    "            \"Friday\": 0,\n",
    "        }\n",
    "        self.costs_days = {\n",
    "            \"Monday\": 0,\n",
    "            \"Tuesday\": 0,\n",
    "            \"Wednesday\": 0,\n",
    "            \"Thursday\": 0,\n",
    "            \"Friday\": 0,\n",
    "        }\n",
    "        self.deliveries_info = {\n",
    "            \"Monday\": [],\n",
    "            \"Tuesday\": [],\n",
    "            \"Wednesday\": [],\n",
    "            \"Thursday\": [],\n",
    "            \"Friday\": [],\n",
    "        }\n",
    "\n",
    "    def generate_day_info(self, weekday) -> None:\n",
    "        day_info = {\n",
    "                \"Total_distance\": self.distance_driven_days[weekday],\n",
    "                \"Total_cost\": self.costs_days[weekday],\n",
    "        }\n",
    "        i = 1\n",
    "        for delivery in self.deliveries_info[weekday]:\n",
    "            day_info[f'Delivery_{i}'] = delivery\n",
    "            i += 1\n",
    "        \n",
    "        return day_info\n",
    "\n",
    "    def generate_delivery_info(self, start_t, end_t, start_city, end_city, delivery_type, start_quant, end_quant, city_distances) -> dict:\n",
    "        delivery_info = {\n",
    "            \"Start_time\": start_t,\n",
    "            \"End_time\": end_t,\n",
    "            \"Start_destination\":start_city,\n",
    "            \"End_destination\":end_city,\n",
    "            \"Distance\": get_distance(start_city, end_city, city_distances),\n",
    "            \"Delivery_type\":delivery_type,\n",
    "            \"Start_quantity\":start_quant,\n",
    "            \"End_quantity\": end_quant,\n",
    "        }\n",
    "        return delivery_info\n",
    "\n",
    "    def generate_truck_output(self) -> dict:\n",
    "        output_dict = {\n",
    "            \"Total_cost\": self.total_cost\n",
    "        }\n",
    "        weekdays = [\"Monday\", \"Tuesday\", \"Wednesday\", \"Thursday\", \"Friday\"]\n",
    "        for weekday in weekdays:\n",
    "            output_dict[weekday] = self.generate_day_info(weekday)\n",
    "\n",
    "        return output_dict\n",
    "\n",
    "    def calculate_cost_from_km(self, distance, overtime:bool):\n",
    "        rate = self.cost_per_km \n",
    "        if overtime:\n",
    "            rate = self.cost_per_km_overtime\n",
    "        return distance * self.cost_per_km\n",
    "    \n",
    "    def update_total_cost(self):\n",
    "        self.total_cost = sum(self.costs_days.values())\n",
    "    \n",
    "    def move_truck(self, new_city:str, city_distances:dict, city_data:dict, weekday:str, deliver:bool=True):\n",
    "        # Calculate cost\n",
    "        print(city_data)\n",
    "        dist = get_distance(self.current_city, new_city, city_distances)\n",
    "        trip_cost = self.calculate_cost_from_km(dist, False)\n",
    "        print(f'trip costs {trip_cost}')\n",
    "        self.costs_days[weekday] += trip_cost\n",
    "\n",
    "        # Update truck \n",
    "        self.update_total_cost()\n",
    "        old_city = self.current_city\n",
    "        self.distance_driven_days[weekday] += dist\n",
    "        self.current_city = new_city\n",
    "        \n",
    "        # Deliver packages \n",
    "        start_packages = self.packages\n",
    "        if deliver:\n",
    "            num_packages_req = city_data[new_city]\n",
    "            if self.packages <= num_packages_req:\n",
    "                city_data[new_city] -= self.packages\n",
    "                self.packages = 0\n",
    "            else:\n",
    "                self.packages -= city_data[new_city]\n",
    "                city_data[new_city] = 0\n",
    "        \n",
    "        # Load up on packages \n",
    "        else:\n",
    "            self.packages = 5\n",
    "        \n",
    "        # Create delivery log\n",
    "        delivery_type = \"Delivery\"\n",
    "        if not deliver:\n",
    "            delivery_type = \"Re-loading\"\n",
    "        \n",
    "        self.deliveries_info[self.current_day].append(self.generate_delivery_info(0, 0, old_city, new_city, delivery_type, start_packages, self.packages, city_distances))\n",
    "\n",
    "        #return (self.generate_delivery_info(0, 0, old_city, new_city, delivery_type, start_packages, self.packages, city_distances))\n",
    "            \n",
    "\n",
    "    def kill_trucker(self) -> None:\n",
    "        self.rest = True\n"
   ]
  },
  {
   "cell_type": "code",
   "execution_count": 246,
   "metadata": {},
   "outputs": [
    {
     "name": "stdout",
     "output_type": "stream",
     "text": [
      "Tilbury belongs to Goderich\n",
      "Mississauga belongs to Toronto\n",
      "Cornwall belongs to Picton\n",
      "London belongs to Goderich\n",
      "Windsor belongs to Goderich\n",
      "Niagara_Falls belongs to Toronto\n",
      "Barrie belongs to Toronto\n",
      "Kingston belongs to Picton\n",
      "Huntsville belongs to Toronto\n",
      "North_Bay belongs to Toronto\n",
      "Goderich belongs to Toronto\n",
      "Toronto belongs to Picton\n",
      "Picton belongs to Toronto\n"
     ]
    }
   ],
   "source": [
    "depots = ['Goderich', 'Toronto', 'Picton']\n",
    "for city in city_distances.keys():\n",
    "    lowest_dist = 1E9\n",
    "    closest_depot = \"\"\n",
    "    for depot in depots:\n",
    "        dist = get_distance(city, depot, city_distances)\n",
    "        \n",
    "        if (dist != 0 and dist < lowest_dist):\n",
    "            lowest_dist = dist\n",
    "            closest_depot = depot\n",
    "\n",
    "    print(f'{city} belongs to {closest_depot}')"
   ]
  },
  {
   "cell_type": "code",
   "execution_count": 247,
   "metadata": {},
   "outputs": [
    {
     "name": "stdout",
     "output_type": "stream",
     "text": [
      "{'Tilbury': 3, 'Mississauga': 4, 'Cornwall': 9, 'London': 13, 'Windsor': 5, 'Niagara_Falls': 13, 'Barrie': 18, 'Kingston': 18, 'Huntsville': 12, 'North_Bay': 5}\n",
      "trip costs 24.640000000000004\n",
      "{'Tilbury': 3, 'Mississauga': 0, 'Cornwall': 9, 'London': 13, 'Windsor': 5, 'Niagara_Falls': 13, 'Barrie': 18, 'Kingston': 18, 'Huntsville': 12, 'North_Bay': 5}\n",
      "trip costs 24.640000000000004\n"
     ]
    },
    {
     "data": {
      "text/plain": [
       "{'Monday': [{'Start_time': 0,\n",
       "   'End_time': 0,\n",
       "   'Start_destination': 'Toronto',\n",
       "   'End_destination': 'Mississauga',\n",
       "   'Distance': 28,\n",
       "   'Delivery_type': 'Delivery',\n",
       "   'Start_quantity': 5,\n",
       "   'End_quantity': 1},\n",
       "  {'Start_time': 0,\n",
       "   'End_time': 0,\n",
       "   'Start_destination': 'Mississauga',\n",
       "   'End_destination': 'Toronto',\n",
       "   'Distance': 28,\n",
       "   'Delivery_type': 'Re-loading',\n",
       "   'Start_quantity': 1,\n",
       "   'End_quantity': 5}],\n",
       " 'Tuesday': [],\n",
       " 'Wednesday': [],\n",
       " 'Thursday': [],\n",
       " 'Friday': []}"
      ]
     },
     "execution_count": 247,
     "metadata": {},
     "output_type": "execute_result"
    }
   ],
   "source": [
    "truck = Truck(\"Toronto\")\n",
    "truck.move_truck(\"Mississauga\", city_distances, city_data, \"Monday\", True)\n",
    "truck.move_truck(\"Toronto\", city_distances, city_data, \"Monday\", False)\n",
    "truck.deliveries_info"
   ]
  },
  {
   "cell_type": "code",
   "execution_count": 248,
   "metadata": {},
   "outputs": [
    {
     "data": {
      "text/plain": [
       "{'Total_cost': 49.28000000000001,\n",
       " 'Monday': {'Total_distance': 56,\n",
       "  'Total_cost': 49.28000000000001,\n",
       "  'Delivery_1': {'Start_time': 0,\n",
       "   'End_time': 0,\n",
       "   'Start_destination': 'Toronto',\n",
       "   'End_destination': 'Mississauga',\n",
       "   'Distance': 28,\n",
       "   'Delivery_type': 'Delivery',\n",
       "   'Start_quantity': 5,\n",
       "   'End_quantity': 1},\n",
       "  'Delivery_2': {'Start_time': 0,\n",
       "   'End_time': 0,\n",
       "   'Start_destination': 'Mississauga',\n",
       "   'End_destination': 'Toronto',\n",
       "   'Distance': 28,\n",
       "   'Delivery_type': 'Re-loading',\n",
       "   'Start_quantity': 1,\n",
       "   'End_quantity': 5}},\n",
       " 'Tuesday': {'Total_distance': 0, 'Total_cost': 0},\n",
       " 'Wednesday': {'Total_distance': 0, 'Total_cost': 0},\n",
       " 'Thursday': {'Total_distance': 0, 'Total_cost': 0},\n",
       " 'Friday': {'Total_distance': 0, 'Total_cost': 0}}"
      ]
     },
     "execution_count": 248,
     "metadata": {},
     "output_type": "execute_result"
    }
   ],
   "source": [
    "truck.generate_truck_output()"
   ]
  },
  {
   "cell_type": "code",
   "execution_count": 254,
   "metadata": {},
   "outputs": [
    {
     "data": {
      "text/plain": [
       "dict_keys(['a', 'b'])"
      ]
     },
     "execution_count": 254,
     "metadata": {},
     "output_type": "execute_result"
    }
   ],
   "source": [
    "my_dict = {\n",
    "    \"a\" : 1,\n",
    "    \"b\" : 2,\n",
    "}\n",
    "my_dict.items()\n",
    "key = my_dict.keys()\n",
    "key"
   ]
  },
  {
   "cell_type": "code",
   "execution_count": null,
   "metadata": {},
   "outputs": [],
   "source": []
  }
 ],
 "metadata": {
  "kernelspec": {
   "display_name": "articus_venv",
   "language": "python",
   "name": "python3"
  },
  "language_info": {
   "codemirror_mode": {
    "name": "ipython",
    "version": 3
   },
   "file_extension": ".py",
   "mimetype": "text/x-python",
   "name": "python",
   "nbconvert_exporter": "python",
   "pygments_lexer": "ipython3",
   "version": "3.9.16"
  },
  "orig_nbformat": 4
 },
 "nbformat": 4,
 "nbformat_minor": 2
}
