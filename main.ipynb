{
 "cells": [
  {
   "cell_type": "code",
   "execution_count": 14,
   "metadata": {},
   "outputs": [],
   "source": [
    "import json\n",
    "\n",
    "#import distance data\n",
    "with open(r'json/distance.json') as f:\n",
    "    distance = json.load(f)\n",
    "\n",
    "#import input data\n",
    "with open(r'json/input.json') as f:\n",
    "    input = json.load(f)\n"
   ]
  },
  {
   "cell_type": "code",
   "execution_count": 15,
   "metadata": {},
   "outputs": [],
   "source": [
    "def distance_to(start:str, end:str, data):\n",
    "    dis = data[start][end] \n",
    "    if (data[start][end] == \"n/a\"):\n",
    "        return 0\n",
    "    else:\n",
    "        return dis"
   ]
  }
 ],
 "metadata": {
  "kernelspec": {
   "display_name": "contour",
   "language": "python",
   "name": "python3"
  },
  "language_info": {
   "codemirror_mode": {
    "name": "ipython",
    "version": 3
   },
   "file_extension": ".py",
   "mimetype": "text/x-python",
   "name": "python",
   "nbconvert_exporter": "python",
   "pygments_lexer": "ipython3",
   "version": "3.11.4"
  },
  "orig_nbformat": 4
 },
 "nbformat": 4,
 "nbformat_minor": 2
}
